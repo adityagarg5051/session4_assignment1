{
 "cells": [
  {
   "cell_type": "markdown",
   "metadata": {},
   "source": [
    "# Problem 2.1"
   ]
  },
  {
   "cell_type": "code",
   "execution_count": 18,
   "metadata": {},
   "outputs": [
    {
     "name": "stdout",
     "output_type": "stream",
     "text": [
      "[6, 4, 9]\n"
     ]
    }
   ],
   "source": [
    "def calculate_length(list_of_words):\n",
    "    return [len(word) for word in list_of_words]\n",
    "\n",
    "\n",
    "print(calculate_length([\"Aditya\",\"Garg\",\"Faridabad\"]))"
   ]
  },
  {
   "cell_type": "markdown",
   "metadata": {},
   "source": [
    "# Problem 2.2"
   ]
  },
  {
   "cell_type": "code",
   "execution_count": 19,
   "metadata": {},
   "outputs": [
    {
     "name": "stdout",
     "output_type": "stream",
     "text": [
      "False\n",
      "\n",
      "\n",
      "False\n",
      "\n",
      "\n",
      "True\n"
     ]
    }
   ],
   "source": [
    "def test_char(character):\n",
    "    if len(character) == 1:\n",
    "        return character in ['a','e','i','o','u']\n",
    "    else:\n",
    "        raise ValueError('Length of the input can only be 1')\n",
    "\n",
    "print(test_char('s'))\n",
    "print('\\n')\n",
    "print(test_char('2'))\n",
    "print('\\n')\n",
    "print(test_char('a')) "
   ]
  },
  {
   "cell_type": "code",
   "execution_count": null,
   "metadata": {},
   "outputs": [],
   "source": []
  }
 ],
 "metadata": {
  "kernelspec": {
   "display_name": "Python 3",
   "language": "python",
   "name": "python3"
  },
  "language_info": {
   "codemirror_mode": {
    "name": "ipython",
    "version": 3
   },
   "file_extension": ".py",
   "mimetype": "text/x-python",
   "name": "python",
   "nbconvert_exporter": "python",
   "pygments_lexer": "ipython3",
   "version": "3.6.5"
  }
 },
 "nbformat": 4,
 "nbformat_minor": 2
}
