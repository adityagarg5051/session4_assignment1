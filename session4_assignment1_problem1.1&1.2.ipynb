{
 "cells": [
  {
   "cell_type": "code",
   "execution_count": 4,
   "metadata": {},
   "outputs": [],
   "source": [
    "# define the Triangle class -- base class\n",
    "class Triangle():\n",
    "\n",
    "    # initialize the sides in the contructor\n",
    "    def __init__(self, side1, side2, side3):\n",
    "        self.side1 = float(side1)\n",
    "        self.side2 = float(side2)\n",
    "        self.side3 = float(side3)\n",
    "    \n",
    "    # define the get function for the semiperimeter property\n",
    "    def _get_semiperimeter(self):\n",
    "        return (self.side1 + self.side2 + self.side3)/2\n",
    "    \n",
    "    # allocate the get function to the semiperimeter property\n",
    "    semiperimeter = property(_get_semiperimeter)\n",
    "\n",
    "# define the Area_Calculator class -- the sub class for area calculation\n",
    "class Area_Calculator(Triangle):\n",
    "    def calculate_area(self):\n",
    "            print(\"Area of the triangle is %s\" %(self.semiperimeter*(self.semiperimeter - self.side1)*(self.semiperimeter - self.side2)*(self.semiperimeter - self.side3))**0.5)"
   ]
  },
  {
   "cell_type": "code",
   "execution_count": 5,
   "metadata": {},
   "outputs": [
    {
     "name": "stdout",
     "output_type": "stream",
     "text": [
      "Area of the triangle is 600.0\n"
     ]
    }
   ],
   "source": [
    "area_calculator = Area_Calculator(30, 40, 50)\n",
    "area_calculator.calculate_area()"
   ]
  },
  {
   "cell_type": "code",
   "execution_count": null,
   "metadata": {},
   "outputs": [],
   "source": []
  }
 ],
 "metadata": {
  "kernelspec": {
   "display_name": "Python 3",
   "language": "python",
   "name": "python3"
  },
  "language_info": {
   "codemirror_mode": {
    "name": "ipython",
    "version": 3
   },
   "file_extension": ".py",
   "mimetype": "text/x-python",
   "name": "python",
   "nbconvert_exporter": "python",
   "pygments_lexer": "ipython3",
   "version": "3.6.5"
  }
 },
 "nbformat": 4,
 "nbformat_minor": 2
}
